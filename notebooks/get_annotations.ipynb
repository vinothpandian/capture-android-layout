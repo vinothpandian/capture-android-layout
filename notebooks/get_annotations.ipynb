{
 "cells": [
  {
   "cell_type": "markdown",
   "metadata": {},
   "source": [
    "# Put in your name below for merging the dataset later"
   ]
  },
  {
   "cell_type": "code",
   "execution_count": null,
   "metadata": {},
   "outputs": [],
   "source": [
    "name = \"L\""
   ]
  },
  {
   "cell_type": "code",
   "execution_count": 2,
   "metadata": {},
   "outputs": [],
   "source": [
    "import xml\n",
    "import cv2\n",
    "import subprocess\n",
    "import matplotlib.pyplot as plt\n",
    "import sys\n",
    "import os\n",
    "\n",
    "from pathlib import Path\n",
    "\n",
    "\n",
    "from ppadb.client import Client as AdbClient\n",
    "import xml.dom.minidom\n",
    "import re\n",
    "import pandas as pd\n",
    "import numpy as np\n",
    "import seaborn as sns\n",
    "from operator import itemgetter\n",
    "\n",
    "import ipywidgets as widgets\n",
    "from IPython.display import display\n",
    "\n",
    "from functools import partial\n",
    "from ipywidgets import interact, interactive, fixed, interact_manual\n",
    "from PIL import Image"
   ]
  },
  {
   "cell_type": "code",
   "execution_count": 3,
   "metadata": {},
   "outputs": [],
   "source": [
    "%load_ext autoreload\n",
    "%autoreload 2"
   ]
  },
  {
   "cell_type": "code",
   "execution_count": 4,
   "metadata": {},
   "outputs": [],
   "source": [
    "from parse_xml import store_annotations"
   ]
  },
  {
   "cell_type": "code",
   "execution_count": 5,
   "metadata": {},
   "outputs": [],
   "source": [
    "xml_annotations_path = Path(\"../xml_annotations/\")\n",
    "annotations_path = Path(\"../annotations/\")\n",
    "screenshots_path = Path(\"../screenshots/\")\n",
    "annotated_screenshots_path = Path(\"../annotated_screenshots/\")"
   ]
  },
  {
   "cell_type": "code",
   "execution_count": 6,
   "metadata": {},
   "outputs": [],
   "source": [
    "plt.style.use(\"seaborn-dark\")\n",
    "plt.rcParams[\"figure.figsize\"] = 4.5, 8"
   ]
  },
  {
   "cell_type": "code",
   "execution_count": 7,
   "metadata": {},
   "outputs": [],
   "source": [
    "def full_plotter(filename):\n",
    "    image_file = screenshots_path/f\"{filename}.png\"\n",
    "    csv_file = annotations_path/f\"full_{filename}.csv\"\n",
    "\n",
    "    image = cv2.imread(str(image_file))\n",
    "\n",
    "    annotation_df = pd.read_csv(csv_file)\n",
    "\n",
    "    a_count = len(annotation_df.group.unique())\n",
    "\n",
    "    color_palette = np.floor(np.array(sns.color_palette(\"Spectral\", n_colors=a_count, desat=1)) * 255).astype(int).tolist()\n",
    "    color_map = dict(zip(annotation_df.group.unique(), color_palette))\n",
    "\n",
    "    get_pt1 = itemgetter(\"xmin\", \"ymin\")\n",
    "    get_pt2 = itemgetter(\"xmax\", \"ymax\")\n",
    "\n",
    "    boxed_image = image.copy()\n",
    "\n",
    "    for i, data in annotation_df[annotation_df.widget_type != \"layout\"].iterrows():\n",
    "        pt1 = get_pt1(data)\n",
    "        pt2 = get_pt2(data)\n",
    "\n",
    "        color_value = color_map[data.group]\n",
    "        cv2.rectangle(boxed_image, pt1, pt2, color_value, 10)\n",
    "        cv2.putText(boxed_image, data.classname, (pt1[0], pt1[1] - 5), cv2.FONT_HERSHEY_PLAIN, 4, (20, 30, 250), 3)\n",
    "        \n",
    "    plt.imshow(boxed_image)\n",
    "    # cv2.imwrite(str(annotated_screenshots_path/f\"{filename}.png\"), boxed_image)"
   ]
  },
  {
   "cell_type": "code",
   "execution_count": 8,
   "metadata": {},
   "outputs": [],
   "source": [
    "# full_plotter(\"L_screen_0000\")"
   ]
  },
  {
   "cell_type": "code",
   "execution_count": 9,
   "metadata": {},
   "outputs": [],
   "source": [
    "def plotter(filename):\n",
    "    image_file = screenshots_path/f\"{filename}.png\"\n",
    "    csv_file = annotations_path/f\"{filename}.csv\"\n",
    "\n",
    "    image = cv2.imread(str(image_file))\n",
    "\n",
    "    annotation_df = pd.read_csv(csv_file)\n",
    "\n",
    "    a_count = len(annotation_df.group.unique())\n",
    "\n",
    "    color_palette = np.floor(np.array(sns.color_palette(\"Spectral\", n_colors=a_count, desat=1)) * 255).astype(int).tolist()\n",
    "    color_map = dict(zip(annotation_df.group.unique(), color_palette))\n",
    "\n",
    "    get_pt1 = itemgetter(\"xmin\", \"ymin\")\n",
    "    get_pt2 = itemgetter(\"xmax\", \"ymax\")\n",
    "\n",
    "    boxed_image = image.copy()\n",
    "\n",
    "    for i, data in annotation_df[annotation_df.widget_type != \"layout\"].iterrows():\n",
    "        pt1 = get_pt1(data)\n",
    "        pt2 = get_pt2(data)\n",
    "\n",
    "        color_value = color_map[data.group]\n",
    "        cv2.rectangle(boxed_image, pt1, pt2, color_value, 10)\n",
    "        cv2.putText(boxed_image, data.classname, (pt1[0], pt1[1] - 5), cv2.FONT_HERSHEY_PLAIN, 4, (20, 30, 250), 3)\n",
    "\n",
    "    cv2.imwrite(str(annotated_screenshots_path/f\"{filename}.png\"), boxed_image)"
   ]
  },
  {
   "cell_type": "markdown",
   "metadata": {},
   "source": [
    "# Get XML and screenshot from android"
   ]
  },
  {
   "cell_type": "code",
   "execution_count": 10,
   "metadata": {},
   "outputs": [],
   "source": [
    "last_file_index = 0\n",
    "\n",
    "if annotations_path.exists():\n",
    "    existing_files = sorted(screenshots_path.glob(f\"{name}_*.png\"))\n",
    "\n",
    "    if existing_files:\n",
    "        last_file = existing_files[-1]\n",
    "        last_file_index = int(re.findall(r\"(\\d+)\", last_file.stem)[-1])"
   ]
  },
  {
   "cell_type": "code",
   "execution_count": 11,
   "metadata": {
    "tags": []
   },
   "outputs": [
    {
     "name": "stdout",
     "output_type": "stream",
     "text": [
      "192.168.0.24:5555\n"
     ]
    }
   ],
   "source": [
    "client = AdbClient(host=\"127.0.0.1\", port=5037)\n",
    "devices = client.devices()\n",
    "for device in devices:\n",
    "    print(device.serial)"
   ]
  },
  {
   "cell_type": "code",
   "execution_count": 12,
   "metadata": {},
   "outputs": [],
   "source": [
    "device = client.device(\"192.168.0.24:5555\")"
   ]
  },
  {
   "cell_type": "code",
   "execution_count": 13,
   "metadata": {},
   "outputs": [
    {
     "data": {
      "text/plain": [
       "'Hello\\n'"
      ]
     },
     "execution_count": 13,
     "metadata": {},
     "output_type": "execute_result"
    }
   ],
   "source": [
    "device.shell(\"echo 'Hello'\")"
   ]
  },
  {
   "cell_type": "markdown",
   "metadata": {},
   "source": [
    "> Important\n",
    "\n",
    "## Run the cell below after changing every screen to get screenshot and xml"
   ]
  },
  {
   "cell_type": "code",
   "execution_count": 14,
   "metadata": {},
   "outputs": [
    {
     "data": {
      "application/vnd.jupyter.widget-view+json": {
       "model_id": "dbe32fcf0098461b97c6cb000dfbf779",
       "version_major": 2,
       "version_minor": 0
      },
      "text/plain": [
       "VBox(children=(Button(description='Snap!', style=ButtonStyle()), Label(value='91'), Image(value=b'', height='4…"
      ]
     },
     "metadata": {},
     "output_type": "display_data"
    }
   ],
   "source": [
    "button = widgets.Button(description=\"Snap!\")\n",
    "label = widgets.Label(value=str(last_file_index))\n",
    "image_disp = widgets.Image(format='png', width=300, height=400)\n",
    "output = widgets.Output()\n",
    "\n",
    "def snap_the_screen(b):\n",
    "    global last_file_index\n",
    "    \n",
    "    filename = f\"{name}_screen_{last_file_index:04}\"\n",
    "    \n",
    "    # store_screenshot\n",
    "    device.shell(\"screencap -p /sdcard/screen.png\")\n",
    "    device.pull(\"/sdcard/screen.png\", (screenshots_path/f\"{filename}.png\"))\n",
    "\n",
    "    # store full layout (Raw)\n",
    "    device.shell(\"uiautomator dump\")\n",
    "    device.pull(\"/sdcard/window_dump.xml\", (xml_annotations_path/f\"full_{filename}.xml\"))\n",
    "\n",
    "    # store compressed (Relevant)\n",
    "    device.shell(\"uiautomator dump --compressed\")\n",
    "    device.pull(\"/sdcard/window_dump.xml\", (xml_annotations_path/f\"{filename}.xml\"))\n",
    "\n",
    "    try:\n",
    "        store_annotations(filename)\n",
    "    except Exception as e:\n",
    "        print(e)\n",
    "    else:\n",
    "        plotter(filename)\n",
    "\n",
    "        last_file_index += 1\n",
    "    \n",
    "    with output:\n",
    "        label.value = f\"Total screenshots: {last_file_index}\"\n",
    "        with open((annotated_screenshots_path/f\"{filename}.png\"), \"rb\") as file:\n",
    "            image = file.read()\n",
    "            image_disp.value = image\n",
    "            os.system(\"printf '\\a'\")\n",
    "        \n",
    "button.on_click(snap_the_screen)\n",
    "widgets.VBox([button, label, image_disp, output])"
   ]
  },
  {
   "cell_type": "code",
   "execution_count": null,
   "metadata": {},
   "outputs": [],
   "source": []
  }
 ],
 "metadata": {
  "kernelspec": {
   "display_name": "Python 3.7.4 64-bit ('uiautomator-PS4hCm75-py3.7': venv)",
   "language": "python",
   "name": "python37464bituiautomatorps4hcm75py37venv7c543faa0c0c44378155de2b960b1fc2"
  },
  "language_info": {
   "codemirror_mode": {
    "name": "ipython",
    "version": 3
   },
   "file_extension": ".py",
   "mimetype": "text/x-python",
   "name": "python",
   "nbconvert_exporter": "python",
   "pygments_lexer": "ipython3",
   "version": "3.7.4"
  }
 },
 "nbformat": 4,
 "nbformat_minor": 4
}
