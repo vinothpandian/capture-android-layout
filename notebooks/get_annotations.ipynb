{
 "cells": [
  {
   "cell_type": "markdown",
   "metadata": {},
   "source": [
    "# Put in your name below for merging the dataset later"
   ]
  },
  {
   "cell_type": "code",
   "execution_count": null,
   "metadata": {},
   "outputs": [],
   "source": [
    "name = \"V\""
   ]
  },
  {
   "cell_type": "code",
   "execution_count": null,
   "metadata": {},
   "outputs": [],
   "source": [
    "filename = f\"{name}_screen_\""
   ]
  },
  {
   "cell_type": "code",
   "execution_count": 3,
   "metadata": {},
   "outputs": [],
   "source": [
    "import xml\n",
    "import cv2\n",
    "import subprocess\n",
    "import matplotlib.pyplot as plt\n",
    "import sys\n",
    "\n",
    "from pathlib import Path\n",
    "\n",
    "\n",
    "from ppadb.client import Client as AdbClient\n",
    "import xml.dom.minidom\n",
    "import re"
   ]
  },
  {
   "cell_type": "code",
   "execution_count": 4,
   "metadata": {},
   "outputs": [],
   "source": [
    "xml_annotations_path = Path(\"../xml_annotations/\")\n",
    "annotations_path = Path(\"../annotations/\")\n",
    "screenshots_path = Path(\"../screenshots/\")"
   ]
  },
  {
   "cell_type": "code",
   "execution_count": 5,
   "metadata": {},
   "outputs": [],
   "source": [
    "plt.style.use(\"seaborn-dark\")\n",
    "plt.rcParams[\"figure.figsize\"] = 4.5, 8"
   ]
  },
  {
   "cell_type": "markdown",
   "metadata": {},
   "source": [
    "# Get XML and screenshot from android"
   ]
  },
  {
   "cell_type": "code",
   "execution_count": 6,
   "metadata": {},
   "outputs": [],
   "source": [
    "last_file_index = 0\n",
    "\n",
    "if annotations_path.exists():\n",
    "    existing_files = sorted(screenshots_path.glob(\"*.png\"))\n",
    "\n",
    "    if existing_files:\n",
    "        last_file = existing_files[-1]\n",
    "        last_file_index = int(re.findall(r\"(\\d+)\", last_file.stem)[-1])"
   ]
  },
  {
   "cell_type": "code",
   "execution_count": 7,
   "metadata": {
    "tags": []
   },
   "outputs": [
    {
     "name": "stdout",
     "output_type": "stream",
     "text": [
      "192.168.0.24:5555\n"
     ]
    }
   ],
   "source": [
    "client = AdbClient(host=\"127.0.0.1\", port=5037)\n",
    "devices = client.devices()\n",
    "for device in devices:\n",
    "    print(device.serial)"
   ]
  },
  {
   "cell_type": "code",
   "execution_count": 8,
   "metadata": {},
   "outputs": [],
   "source": [
    "device = client.device(\"192.168.0.24:5555\")"
   ]
  },
  {
   "cell_type": "markdown",
   "metadata": {},
   "source": [
    "> Important\n",
    "\n",
    "## Run the cell below after changing every screen to get screenshot and xml"
   ]
  },
  {
   "cell_type": "code",
   "execution_count": 12,
   "metadata": {},
   "outputs": [],
   "source": [
    "# store_screenshot\n",
    "device.shell(\"screencap -p /sdcard/screen.png\")\n",
    "device.pull(\"/sdcard/screen.png\", (screenshots_path/f\"{filename}_{last_file_index:04}.png\"))\n",
    "\n",
    "# store full layout (Raw)\n",
    "device.shell(\"uiautomator dump\")\n",
    "device.pull(\"/sdcard/window_dump.xml\", (xml_annotations_path/f\"full_{filename}_{last_file_index:04}.xml\"))\n",
    "\n",
    "# store compressed (Relevant)\n",
    "device.shell(\"uiautomator dump --compressed\")\n",
    "device.pull(\"/sdcard/window_dump.xml\", (xml_annotations_path/f\"{filename}_{last_file_index:04}.xml\"))\n",
    "\n",
    "\n",
    "last_file_index += 1"
   ]
  },
  {
   "cell_type": "code",
   "execution_count": null,
   "metadata": {},
   "outputs": [],
   "source": []
  }
 ],
 "metadata": {
  "kernelspec": {
   "display_name": "Python 3.7.4 64-bit ('uiautomator-PS4hCm75-py3.7': venv)",
   "language": "python",
   "name": "python37464bituiautomatorps4hcm75py37venv7c543faa0c0c44378155de2b960b1fc2"
  },
  "language_info": {
   "codemirror_mode": {
    "name": "ipython",
    "version": 3
   },
   "file_extension": ".py",
   "mimetype": "text/x-python",
   "name": "python",
   "nbconvert_exporter": "python",
   "pygments_lexer": "ipython3",
   "version": "3.7.4"
  }
 },
 "nbformat": 4,
 "nbformat_minor": 4
}
